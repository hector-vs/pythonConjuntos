{
  "nbformat": 4,
  "nbformat_minor": 0,
  "metadata": {
    "colab": {
      "provenance": [],
      "authorship_tag": "ABX9TyMsSYYwpxwsde6eGz/HT2EX",
      "include_colab_link": true
    },
    "kernelspec": {
      "name": "python3",
      "display_name": "Python 3"
    },
    "language_info": {
      "name": "python"
    }
  },
  "cells": [
    {
      "cell_type": "markdown",
      "metadata": {
        "id": "view-in-github",
        "colab_type": "text"
      },
      "source": [
        "<a href=\"https://colab.research.google.com/github/hector-vs/pythonConjuntos/blob/main/Untitled0.ipynb\" target=\"_parent\"><img src=\"https://colab.research.google.com/assets/colab-badge.svg\" alt=\"Open In Colab\"/></a>"
      ]
    },
    {
      "cell_type": "code",
      "execution_count": 4,
      "metadata": {
        "colab": {
          "base_uri": "https://localhost:8080/"
        },
        "id": "z90h7EGmuKoP",
        "outputId": "57870868-5b29-4bcf-db3c-1d90dc8e948f"
      },
      "outputs": [
        {
          "output_type": "stream",
          "name": "stdout",
          "text": [
            "{1, 2, 3}\n",
            "3\n",
            "{1, 3}\n",
            "set()\n"
          ]
        }
      ],
      "source": [
        "A={1,2,2,3,3,3}\n",
        "print(A)\n",
        "print(len(A))\n",
        "A.remove(2)\n",
        "print(A)\n",
        "A.clear()\n",
        "print(A)"
      ]
    },
    {
      "cell_type": "code",
      "source": [
        "print(\"União dos conjuntos:\")\n",
        "A = {3,6,5,8,1,7}\n",
        "B = {2,3,4,5,6,7}\n",
        "C = A.union(B)\n",
        "print(C)\n",
        "C = A | B\n",
        "print(C)"
      ],
      "metadata": {
        "colab": {
          "base_uri": "https://localhost:8080/"
        },
        "id": "g7GYorlwvlWs",
        "outputId": "1ed2378d-279c-4144-d845-9a5d94d5ebb5"
      },
      "execution_count": 6,
      "outputs": [
        {
          "output_type": "stream",
          "name": "stdout",
          "text": [
            "União dos conjuntos:\n",
            "{1, 2, 3, 4, 5, 6, 7, 8}\n",
            "{1, 2, 3, 4, 5, 6, 7, 8}\n"
          ]
        }
      ]
    },
    {
      "cell_type": "code",
      "source": [
        "print(\"Interseção dos conjuntos:\")\n",
        "A = {3,6,5,8,1,7}\n",
        "B = {2,3,4,5,6,7}\n",
        "C = A.intersection(B)\n",
        "print(C)\n",
        "C = A & B\n",
        "print(C)"
      ],
      "metadata": {
        "colab": {
          "base_uri": "https://localhost:8080/"
        },
        "id": "kM_huct2wieC",
        "outputId": "315dda2e-19e3-4c2d-dfb5-93769bb8dedc"
      },
      "execution_count": 7,
      "outputs": [
        {
          "output_type": "stream",
          "name": "stdout",
          "text": [
            "Interseção dos conjuntos:\n",
            "{3, 5, 6, 7}\n",
            "{3, 5, 6, 7}\n"
          ]
        }
      ]
    },
    {
      "cell_type": "code",
      "source": [
        "print(\"Diferença dos conjuntos:\")\n",
        "A = {3,6,5,8,1,7}\n",
        "B = {2,3,4,5,6,7}\n",
        "C = A - B\n",
        "print(C, \"<- (A - B)\")\n",
        "C = B - A\n",
        "print(C, \"<- (B - A)\")"
      ],
      "metadata": {
        "colab": {
          "base_uri": "https://localhost:8080/"
        },
        "id": "ztyhH2hhw2hN",
        "outputId": "5b5d9412-e5d8-476d-a697-bf69bcf0fcb4"
      },
      "execution_count": 11,
      "outputs": [
        {
          "output_type": "stream",
          "name": "stdout",
          "text": [
            "Diferença dos conjuntos:\n",
            "{8, 1} <- (A - B)\n",
            "{2, 4} <- (B - A)\n"
          ]
        }
      ]
    },
    {
      "cell_type": "code",
      "source": [
        "A = {3,6,5,8,1,7}\n",
        "B = {3,5}\n",
        "if 4 in B:\n",
        "  print(\"Sim! Verdadeiro\")\n",
        "else:\n",
        "  print(\"Nah, Falso\")\n",
        "\n",
        "print(A <= B)\n",
        "print(B <= A)\n",
        "print(B < A)"
      ],
      "metadata": {
        "colab": {
          "base_uri": "https://localhost:8080/"
        },
        "id": "MAhmUTY3xmgv",
        "outputId": "7e1e7cac-1b8b-439a-c72d-2260c77b30fd"
      },
      "execution_count": 21,
      "outputs": [
        {
          "output_type": "stream",
          "name": "stdout",
          "text": [
            "Nah, Falso\n",
            "False\n",
            "True\n",
            "True\n"
          ]
        }
      ]
    },
    {
      "cell_type": "code",
      "source": [
        "print(\"Complemento e um conjunto:\")\n",
        "S = {0,1,2,3,4,5,6,7,8,9}\n",
        "A = {3,6,5,8,1,7}\n",
        "A_ = S - A\n",
        "print(A_)\n",
        "print(A.union(A_), \" e \", S)"
      ],
      "metadata": {
        "colab": {
          "base_uri": "https://localhost:8080/"
        },
        "id": "b1zsiHwsy8Hs",
        "outputId": "858655f6-099b-4fbe-f5bb-e3a7b8edfb21"
      },
      "execution_count": 26,
      "outputs": [
        {
          "output_type": "stream",
          "name": "stdout",
          "text": [
            "Complemento e um conjunto:\n",
            "{0, 9, 2, 4}\n",
            "{0, 1, 2, 3, 4, 5, 6, 7, 8, 9}  e  {0, 1, 2, 3, 4, 5, 6, 7, 8, 9}\n"
          ]
        }
      ]
    },
    {
      "cell_type": "code",
      "source": [
        "print(\"Números complexos:\")\n",
        "z1 = complex(3,4)\n",
        "z2 = 1 + 2j\n",
        "z3 = complex(7,9)\n",
        "print(z1, z2, z3)\n",
        "print(z1*z2)\n",
        "print(z1/z2)"
      ],
      "metadata": {
        "colab": {
          "base_uri": "https://localhost:8080/"
        },
        "id": "l_58fwIM5Iwy",
        "outputId": "4e88a279-6451-41cc-a4be-4e0842746a62"
      },
      "execution_count": 30,
      "outputs": [
        {
          "output_type": "stream",
          "name": "stdout",
          "text": [
            "Números complexos:\n",
            "(3+4j) (1+2j) (7+9j)\n",
            "(-5+10j)\n",
            "(2.2-0.4j)\n"
          ]
        }
      ]
    }
  ]
}